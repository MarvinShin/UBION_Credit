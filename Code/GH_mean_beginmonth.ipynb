{
 "cells": [
  {
   "cell_type": "code",
   "execution_count": 151,
   "metadata": {},
   "outputs": [],
   "source": [
    "import pandas as pd\n",
    "import numpy as np\n",
    "from tqdm import tqdm\n",
    "import matplotlib.pyplot as plt\n",
    "import seaborn as sns"
   ]
  },
  {
   "cell_type": "code",
   "execution_count": 183,
   "metadata": {},
   "outputs": [],
   "source": [
    "user_list = pd.read_csv('data/user_list_GH1.csv')\n",
    "train = pd.read_csv('data/train.csv')"
   ]
  },
  {
   "cell_type": "code",
   "execution_count": 184,
   "metadata": {},
   "outputs": [],
   "source": [
    "train['ID'] = train['gender'].astype(str) + ' & ' + train['car'].astype(str) + ' & ' + train['reality'].astype(str) + ' & ' + \\\n",
    "                train['child_num'].astype(str) + ' & ' + train['income_total'].astype(str) + ' & ' + train['income_type'].astype(str) + ' & ' + \\\n",
    "                    train['edu_type'].astype(str) + ' & ' + train['family_type'].astype(str) + ' & ' + train['house_type'].astype(str) + ' & ' + \\\n",
    "                        train['DAYS_BIRTH'].astype(str) + ' & ' + train['DAYS_EMPLOYED'].astype(str) + ' & ' + train['work_phone'].astype(str) + ' & ' + \\\n",
    "                            train['phone'].astype(str) + ' & ' + train['email'].astype(str)  + ' & ' + train['family_size'].astype(str)\n",
    "#쓸모없는 칼럼 삭제\n",
    "train.drop(['FLAG_MOBIL'], axis=1, inplace=True)   \n",
    "train.drop(columns=['index'], inplace=True)"
   ]
  },
  {
   "cell_type": "code",
   "execution_count": 185,
   "metadata": {},
   "outputs": [
    {
     "name": "stderr",
     "output_type": "stream",
     "text": [
      "100%|██████████| 26457/26457 [01:52<00:00, 235.21it/s]\n"
     ]
    }
   ],
   "source": [
    "for i in tqdm(range(len(train))):\n",
    "    a = train.iloc[i]['ID']\n",
    "    b = abs(int(train[train['ID']==a]['begin_month'].mean()))\n",
    "    user_list.loc[(user_list['ID']==a), 'begin_month_mean'] =  b"
   ]
  },
  {
   "cell_type": "code",
   "execution_count": 186,
   "metadata": {},
   "outputs": [
    {
     "data": {
      "text/plain": [
       "8759"
      ]
     },
     "execution_count": 186,
     "metadata": {},
     "output_type": "execute_result"
    }
   ],
   "source": [
    "len(user_list)"
   ]
  },
  {
   "cell_type": "code",
   "execution_count": 187,
   "metadata": {},
   "outputs": [
    {
     "name": "stdout",
     "output_type": "stream",
     "text": [
      "26457\n",
      "26226\n",
      "231\n"
     ]
    }
   ],
   "source": [
    "print(len(train))\n",
    "print(len(train[train['begin_month']<0]))\n",
    "print(len(train[train['begin_month']==0]))"
   ]
  },
  {
   "cell_type": "code",
   "execution_count": 189,
   "metadata": {},
   "outputs": [
    {
     "name": "stdout",
     "output_type": "stream",
     "text": [
      "8759\n",
      "214\n",
      "0\n",
      "8545\n",
      "29\n",
      "8730\n"
     ]
    }
   ],
   "source": [
    "print(len(user_list))\n",
    "print(len(user_list[user_list['begin_month']==0]))\n",
    "print(len(user_list[user_list['begin_month']>0]))\n",
    "print(len(user_list[user_list['begin_month']<0]))\n",
    "print(len(user_list[user_list['begin_month_mean']==0]))\n",
    "print(len(user_list[user_list['begin_month_mean']>0]))"
   ]
  },
  {
   "cell_type": "code",
   "execution_count": 191,
   "metadata": {},
   "outputs": [
    {
     "data": {
      "text/plain": [
       "214"
      ]
     },
     "execution_count": 191,
     "metadata": {},
     "output_type": "execute_result"
    }
   ],
   "source": [
    "# 신규로 카드를 개설한 사람의 수\n",
    "len(train[train['begin_month']==0.0]['ID'].unique())"
   ]
  },
  {
   "cell_type": "code",
   "execution_count": 193,
   "metadata": {},
   "outputs": [
    {
     "data": {
      "text/plain": [
       "29"
      ]
     },
     "execution_count": 193,
     "metadata": {},
     "output_type": "execute_result"
    }
   ],
   "source": [
    "# 카드를 신규 개설하고 그 카드가 첫번째인 사람의 수\n",
    "len(user_list[user_list['begin_month_mean']==0.0])"
   ]
  },
  {
   "cell_type": "code",
   "execution_count": 195,
   "metadata": {},
   "outputs": [
    {
     "name": "stderr",
     "output_type": "stream",
     "text": [
      "/Users/jeong-giho/.conda/envs/pythonProject4/lib/python3.9/site-packages/seaborn/_decorators.py:36: FutureWarning: Pass the following variable as a keyword arg: x. From version 0.12, the only valid positional argument will be `data`, and passing other arguments without an explicit keyword will result in an error or misinterpretation.\n",
      "  warnings.warn(\n"
     ]
    },
    {
     "data": {
      "image/png": "[encoded data removed]",
      "text/plain": [
       "<Figure size 640x480 with 1 Axes>"
      ]
     },
     "metadata": {},
     "output_type": "display_data"
    }
   ],
   "source": [
    "sns.countplot('begin_month_mean', data = user_list, hue='credit')\n",
    "plt.show()"
   ]
  },
  {
   "cell_type": "code",
   "execution_count": 201,
   "metadata": {},
   "outputs": [],
   "source": [
    "def category_beginmonth(user_list: pd.DataFrame) -> pd.DataFrame:\n",
    "    conditions = [\n",
    "        (user_list[\"begin_month_mean\"].le(10)),\n",
    "        (user_list[\"begin_month_mean\"].gt(10) & user_list[\"begin_month_mean\"].le(20)),\n",
    "        (user_list[\"begin_month_mean\"].gt(20) & user_list[\"begin_month_mean\"].le(30)),\n",
    "        (user_list[\"begin_month_mean\"].gt(30) & user_list[\"begin_month_mean\"].le(40)),\n",
    "        (user_list[\"begin_month_mean\"].gt(40) & user_list[\"begin_month_mean\"].le(50)),\n",
    "        (user_list[\"begin_month_mean\"].gt(50) & user_list[\"begin_month_mean\"].le(60)),\n",
    "    ]\n",
    "    choices = [i for i in range(6)]\n",
    "\n",
    "    user_list[\"categorical_month\"] = np.select(conditions, choices)\n",
    "    \n",
    "    return user_list"
   ]
  },
  {
   "cell_type": "code",
   "execution_count": 202,
   "metadata": {},
   "outputs": [
    {
     "data": {
      "text/html": [
       "<div>\n",
       "<style scoped>\n",
       "    .dataframe tbody tr th:only-of-type {\n",
       "        vertical-align: middle;\n",
       "    }\n",
       "\n",
       "    .dataframe tbody tr th {\n",
       "        vertical-align: top;\n",
       "    }\n",
       "\n",
       "    .dataframe thead th {\n",
       "        text-align: right;\n",
       "    }\n",
       "</style>\n",
       "<table border=\"1\" class=\"dataframe\">\n",
       "  <thead>\n",
       "    <tr style=\"text-align: right;\">\n",
       "      <th></th>\n",
       "      <th>gender</th>\n",
       "      <th>car</th>\n",
       "      <th>reality</th>\n",
       "      <th>child_num</th>\n",
       "      <th>income_total</th>\n",
       "      <th>income_type</th>\n",
       "      <th>edu_type</th>\n",
       "      <th>family_type</th>\n",
       "      <th>house_type</th>\n",
       "      <th>DAYS_BIRTH</th>\n",
       "      <th>...</th>\n",
       "      <th>phone</th>\n",
       "      <th>email</th>\n",
       "      <th>occyp_type</th>\n",
       "      <th>family_size</th>\n",
       "      <th>begin_month</th>\n",
       "      <th>credit</th>\n",
       "      <th>ID</th>\n",
       "      <th>card_num</th>\n",
       "      <th>begin_month_mean</th>\n",
       "      <th>categorical_month</th>\n",
       "    </tr>\n",
       "  </thead>\n",
       "  <tbody>\n",
       "    <tr>\n",
       "      <th>0</th>\n",
       "      <td>F</td>\n",
       "      <td>N</td>\n",
       "      <td>N</td>\n",
       "      <td>0</td>\n",
       "      <td>112500.0</td>\n",
       "      <td>Commercial associate</td>\n",
       "      <td>Secondary / secondary special</td>\n",
       "      <td>Married</td>\n",
       "      <td>With parents</td>\n",
       "      <td>-11453</td>\n",
       "      <td>...</td>\n",
       "      <td>0</td>\n",
       "      <td>0</td>\n",
       "      <td>Medicine staff</td>\n",
       "      <td>2.0</td>\n",
       "      <td>0.0</td>\n",
       "      <td>1.0</td>\n",
       "      <td>F &amp; N &amp; N &amp; 0 &amp; 112500.0 &amp; Commercial associat...</td>\n",
       "      <td>1.0</td>\n",
       "      <td>0.0</td>\n",
       "      <td>0</td>\n",
       "    </tr>\n",
       "    <tr>\n",
       "      <th>1</th>\n",
       "      <td>F</td>\n",
       "      <td>N</td>\n",
       "      <td>N</td>\n",
       "      <td>0</td>\n",
       "      <td>135000.0</td>\n",
       "      <td>Working</td>\n",
       "      <td>Secondary / secondary special</td>\n",
       "      <td>Married</td>\n",
       "      <td>House / apartment</td>\n",
       "      <td>-15499</td>\n",
       "      <td>...</td>\n",
       "      <td>0</td>\n",
       "      <td>0</td>\n",
       "      <td>Private service staff</td>\n",
       "      <td>2.0</td>\n",
       "      <td>0.0</td>\n",
       "      <td>0.0</td>\n",
       "      <td>F &amp; N &amp; N &amp; 0 &amp; 135000.0 &amp; Working &amp; Secondary...</td>\n",
       "      <td>5.0</td>\n",
       "      <td>14.0</td>\n",
       "      <td>1</td>\n",
       "    </tr>\n",
       "    <tr>\n",
       "      <th>2</th>\n",
       "      <td>F</td>\n",
       "      <td>N</td>\n",
       "      <td>N</td>\n",
       "      <td>0</td>\n",
       "      <td>135000.0</td>\n",
       "      <td>Working</td>\n",
       "      <td>Secondary / secondary special</td>\n",
       "      <td>Married</td>\n",
       "      <td>House / apartment</td>\n",
       "      <td>-19003</td>\n",
       "      <td>...</td>\n",
       "      <td>0</td>\n",
       "      <td>0</td>\n",
       "      <td>Medicine staff</td>\n",
       "      <td>2.0</td>\n",
       "      <td>0.0</td>\n",
       "      <td>0.0</td>\n",
       "      <td>F &amp; N &amp; N &amp; 0 &amp; 135000.0 &amp; Working &amp; Secondary...</td>\n",
       "      <td>2.0</td>\n",
       "      <td>8.0</td>\n",
       "      <td>0</td>\n",
       "    </tr>\n",
       "    <tr>\n",
       "      <th>3</th>\n",
       "      <td>F</td>\n",
       "      <td>N</td>\n",
       "      <td>N</td>\n",
       "      <td>0</td>\n",
       "      <td>135000.0</td>\n",
       "      <td>Working</td>\n",
       "      <td>Secondary / secondary special</td>\n",
       "      <td>Married</td>\n",
       "      <td>With parents</td>\n",
       "      <td>-12278</td>\n",
       "      <td>...</td>\n",
       "      <td>0</td>\n",
       "      <td>0</td>\n",
       "      <td>NaN</td>\n",
       "      <td>2.0</td>\n",
       "      <td>0.0</td>\n",
       "      <td>0.0</td>\n",
       "      <td>F &amp; N &amp; N &amp; 0 &amp; 135000.0 &amp; Working &amp; Secondary...</td>\n",
       "      <td>8.0</td>\n",
       "      <td>17.0</td>\n",
       "      <td>1</td>\n",
       "    </tr>\n",
       "    <tr>\n",
       "      <th>4</th>\n",
       "      <td>F</td>\n",
       "      <td>N</td>\n",
       "      <td>N</td>\n",
       "      <td>0</td>\n",
       "      <td>157500.0</td>\n",
       "      <td>State servant</td>\n",
       "      <td>Higher education</td>\n",
       "      <td>Married</td>\n",
       "      <td>House / apartment</td>\n",
       "      <td>-11588</td>\n",
       "      <td>...</td>\n",
       "      <td>1</td>\n",
       "      <td>0</td>\n",
       "      <td>Core staff</td>\n",
       "      <td>2.0</td>\n",
       "      <td>0.0</td>\n",
       "      <td>0.0</td>\n",
       "      <td>F &amp; N &amp; N &amp; 0 &amp; 157500.0 &amp; State servant &amp; Hig...</td>\n",
       "      <td>9.0</td>\n",
       "      <td>10.0</td>\n",
       "      <td>0</td>\n",
       "    </tr>\n",
       "    <tr>\n",
       "      <th>...</th>\n",
       "      <td>...</td>\n",
       "      <td>...</td>\n",
       "      <td>...</td>\n",
       "      <td>...</td>\n",
       "      <td>...</td>\n",
       "      <td>...</td>\n",
       "      <td>...</td>\n",
       "      <td>...</td>\n",
       "      <td>...</td>\n",
       "      <td>...</td>\n",
       "      <td>...</td>\n",
       "      <td>...</td>\n",
       "      <td>...</td>\n",
       "      <td>...</td>\n",
       "      <td>...</td>\n",
       "      <td>...</td>\n",
       "      <td>...</td>\n",
       "      <td>...</td>\n",
       "      <td>...</td>\n",
       "      <td>...</td>\n",
       "      <td>...</td>\n",
       "    </tr>\n",
       "    <tr>\n",
       "      <th>8754</th>\n",
       "      <td>M</td>\n",
       "      <td>Y</td>\n",
       "      <td>N</td>\n",
       "      <td>3</td>\n",
       "      <td>360000.0</td>\n",
       "      <td>Commercial associate</td>\n",
       "      <td>Secondary / secondary special</td>\n",
       "      <td>Married</td>\n",
       "      <td>House / apartment</td>\n",
       "      <td>-15262</td>\n",
       "      <td>...</td>\n",
       "      <td>0</td>\n",
       "      <td>0</td>\n",
       "      <td>Managers</td>\n",
       "      <td>5.0</td>\n",
       "      <td>-60.0</td>\n",
       "      <td>2.0</td>\n",
       "      <td>M &amp; Y &amp; N &amp; 3 &amp; 360000.0 &amp; Commercial associat...</td>\n",
       "      <td>1.0</td>\n",
       "      <td>60.0</td>\n",
       "      <td>5</td>\n",
       "    </tr>\n",
       "    <tr>\n",
       "      <th>8755</th>\n",
       "      <td>M</td>\n",
       "      <td>Y</td>\n",
       "      <td>Y</td>\n",
       "      <td>0</td>\n",
       "      <td>112500.0</td>\n",
       "      <td>Working</td>\n",
       "      <td>Secondary / secondary special</td>\n",
       "      <td>Married</td>\n",
       "      <td>House / apartment</td>\n",
       "      <td>-12167</td>\n",
       "      <td>...</td>\n",
       "      <td>0</td>\n",
       "      <td>0</td>\n",
       "      <td>Drivers</td>\n",
       "      <td>2.0</td>\n",
       "      <td>-60.0</td>\n",
       "      <td>2.0</td>\n",
       "      <td>M &amp; Y &amp; Y &amp; 0 &amp; 112500.0 &amp; Working &amp; Secondary...</td>\n",
       "      <td>1.0</td>\n",
       "      <td>60.0</td>\n",
       "      <td>5</td>\n",
       "    </tr>\n",
       "    <tr>\n",
       "      <th>8756</th>\n",
       "      <td>M</td>\n",
       "      <td>Y</td>\n",
       "      <td>Y</td>\n",
       "      <td>0</td>\n",
       "      <td>270000.0</td>\n",
       "      <td>Commercial associate</td>\n",
       "      <td>Secondary / secondary special</td>\n",
       "      <td>Married</td>\n",
       "      <td>House / apartment</td>\n",
       "      <td>-17847</td>\n",
       "      <td>...</td>\n",
       "      <td>0</td>\n",
       "      <td>0</td>\n",
       "      <td>Laborers</td>\n",
       "      <td>2.0</td>\n",
       "      <td>-60.0</td>\n",
       "      <td>0.0</td>\n",
       "      <td>M &amp; Y &amp; Y &amp; 0 &amp; 270000.0 &amp; Commercial associat...</td>\n",
       "      <td>1.0</td>\n",
       "      <td>60.0</td>\n",
       "      <td>5</td>\n",
       "    </tr>\n",
       "    <tr>\n",
       "      <th>8757</th>\n",
       "      <td>M</td>\n",
       "      <td>Y</td>\n",
       "      <td>Y</td>\n",
       "      <td>0</td>\n",
       "      <td>315000.0</td>\n",
       "      <td>Commercial associate</td>\n",
       "      <td>Higher education</td>\n",
       "      <td>Married</td>\n",
       "      <td>House / apartment</td>\n",
       "      <td>-18661</td>\n",
       "      <td>...</td>\n",
       "      <td>0</td>\n",
       "      <td>0</td>\n",
       "      <td>Managers</td>\n",
       "      <td>2.0</td>\n",
       "      <td>-60.0</td>\n",
       "      <td>2.0</td>\n",
       "      <td>M &amp; Y &amp; Y &amp; 0 &amp; 315000.0 &amp; Commercial associat...</td>\n",
       "      <td>1.0</td>\n",
       "      <td>60.0</td>\n",
       "      <td>5</td>\n",
       "    </tr>\n",
       "    <tr>\n",
       "      <th>8758</th>\n",
       "      <td>M</td>\n",
       "      <td>Y</td>\n",
       "      <td>Y</td>\n",
       "      <td>1</td>\n",
       "      <td>202500.0</td>\n",
       "      <td>Working</td>\n",
       "      <td>Secondary / secondary special</td>\n",
       "      <td>Married</td>\n",
       "      <td>House / apartment</td>\n",
       "      <td>-12496</td>\n",
       "      <td>...</td>\n",
       "      <td>0</td>\n",
       "      <td>0</td>\n",
       "      <td>Laborers</td>\n",
       "      <td>3.0</td>\n",
       "      <td>-60.0</td>\n",
       "      <td>0.0</td>\n",
       "      <td>M &amp; Y &amp; Y &amp; 1 &amp; 202500.0 &amp; Working &amp; Secondary...</td>\n",
       "      <td>1.0</td>\n",
       "      <td>60.0</td>\n",
       "      <td>5</td>\n",
       "    </tr>\n",
       "  </tbody>\n",
       "</table>\n",
       "<p>8759 rows × 22 columns</p>\n",
       "</div>"
      ],
      "text/plain": [
       "     gender car reality  child_num  income_total           income_type  \\\n",
       "0         F   N       N          0      112500.0  Commercial associate   \n",
       "1         F   N       N          0      135000.0               Working   \n",
       "2         F   N       N          0      135000.0               Working   \n",
       "3         F   N       N          0      135000.0               Working   \n",
       "4         F   N       N          0      157500.0         State servant   \n",
       "...     ...  ..     ...        ...           ...                   ...   \n",
       "8754      M   Y       N          3      360000.0  Commercial associate   \n",
       "8755      M   Y       Y          0      112500.0               Working   \n",
       "8756      M   Y       Y          0      270000.0  Commercial associate   \n",
       "8757      M   Y       Y          0      315000.0  Commercial associate   \n",
       "8758      M   Y       Y          1      202500.0               Working   \n",
       "\n",
       "                           edu_type family_type         house_type  \\\n",
       "0     Secondary / secondary special     Married       With parents   \n",
       "1     Secondary / secondary special     Married  House / apartment   \n",
       "2     Secondary / secondary special     Married  House / apartment   \n",
       "3     Secondary / secondary special     Married       With parents   \n",
       "4                  Higher education     Married  House / apartment   \n",
       "...                             ...         ...                ...   \n",
       "8754  Secondary / secondary special     Married  House / apartment   \n",
       "8755  Secondary / secondary special     Married  House / apartment   \n",
       "8756  Secondary / secondary special     Married  House / apartment   \n",
       "8757               Higher education     Married  House / apartment   \n",
       "8758  Secondary / secondary special     Married  House / apartment   \n",
       "\n",
       "      DAYS_BIRTH  ...  phone  email             occyp_type  family_size  \\\n",
       "0         -11453  ...      0      0         Medicine staff          2.0   \n",
       "1         -15499  ...      0      0  Private service staff          2.0   \n",
       "2         -19003  ...      0      0         Medicine staff          2.0   \n",
       "3         -12278  ...      0      0                    NaN          2.0   \n",
       "4         -11588  ...      1      0             Core staff          2.0   \n",
       "...          ...  ...    ...    ...                    ...          ...   \n",
       "8754      -15262  ...      0      0               Managers          5.0   \n",
       "8755      -12167  ...      0      0                Drivers          2.0   \n",
       "8756      -17847  ...      0      0               Laborers          2.0   \n",
       "8757      -18661  ...      0      0               Managers          2.0   \n",
       "8758      -12496  ...      0      0               Laborers          3.0   \n",
       "\n",
       "     begin_month  credit                                                 ID  \\\n",
       "0            0.0     1.0  F & N & N & 0 & 112500.0 & Commercial associat...   \n",
       "1            0.0     0.0  F & N & N & 0 & 135000.0 & Working & Secondary...   \n",
       "2            0.0     0.0  F & N & N & 0 & 135000.0 & Working & Secondary...   \n",
       "3            0.0     0.0  F & N & N & 0 & 135000.0 & Working & Secondary...   \n",
       "4            0.0     0.0  F & N & N & 0 & 157500.0 & State servant & Hig...   \n",
       "...          ...     ...                                                ...   \n",
       "8754       -60.0     2.0  M & Y & N & 3 & 360000.0 & Commercial associat...   \n",
       "8755       -60.0     2.0  M & Y & Y & 0 & 112500.0 & Working & Secondary...   \n",
       "8756       -60.0     0.0  M & Y & Y & 0 & 270000.0 & Commercial associat...   \n",
       "8757       -60.0     2.0  M & Y & Y & 0 & 315000.0 & Commercial associat...   \n",
       "8758       -60.0     0.0  M & Y & Y & 1 & 202500.0 & Working & Secondary...   \n",
       "\n",
       "      card_num begin_month_mean  categorical_month  \n",
       "0          1.0              0.0                  0  \n",
       "1          5.0             14.0                  1  \n",
       "2          2.0              8.0                  0  \n",
       "3          8.0             17.0                  1  \n",
       "4          9.0             10.0                  0  \n",
       "...        ...              ...                ...  \n",
       "8754       1.0             60.0                  5  \n",
       "8755       1.0             60.0                  5  \n",
       "8756       1.0             60.0                  5  \n",
       "8757       1.0             60.0                  5  \n",
       "8758       1.0             60.0                  5  \n",
       "\n",
       "[8759 rows x 22 columns]"
      ]
     },
     "execution_count": 202,
     "metadata": {},
     "output_type": "execute_result"
    }
   ],
   "source": [
    "category_beginmonth(user_list)"
   ]
  },
  {
   "cell_type": "code",
   "execution_count": 205,
   "metadata": {},
   "outputs": [],
   "source": [
    "# user_list.drop(columns=['Unnamed: 0'], inplace = True)"
   ]
  },
  {
   "cell_type": "code",
   "execution_count": 204,
   "metadata": {},
   "outputs": [
    {
     "name": "stdout",
     "output_type": "stream",
     "text": [
      "<class 'pandas.core.frame.DataFrame'>\n",
      "RangeIndex: 8759 entries, 0 to 8758\n",
      "Data columns (total 22 columns):\n",
      " #   Column             Non-Null Count  Dtype  \n",
      "---  ------             --------------  -----  \n",
      " 0   gender             8759 non-null   object \n",
      " 1   car                8759 non-null   object \n",
      " 2   reality            8759 non-null   object \n",
      " 3   child_num          8759 non-null   int64  \n",
      " 4   income_total       8759 non-null   float64\n",
      " 5   income_type        8759 non-null   object \n",
      " 6   edu_type           8759 non-null   object \n",
      " 7   family_type        8759 non-null   object \n",
      " 8   house_type         8759 non-null   object \n",
      " 9   DAYS_BIRTH         8759 non-null   int64  \n",
      " 10  DAYS_EMPLOYED      8759 non-null   int64  \n",
      " 11  work_phone         8759 non-null   int64  \n",
      " 12  phone              8759 non-null   int64  \n",
      " 13  email              8759 non-null   int64  \n",
      " 14  occyp_type         6078 non-null   object \n",
      " 15  family_size        8759 non-null   float64\n",
      " 16  begin_month        8759 non-null   float64\n",
      " 17  credit             8759 non-null   float64\n",
      " 18  ID                 8759 non-null   object \n",
      " 19  card_num           8759 non-null   float64\n",
      " 20  begin_month_mean   8759 non-null   float64\n",
      " 21  categorical_month  8759 non-null   int64  \n",
      "dtypes: float64(6), int64(7), object(9)\n",
      "memory usage: 1.5+ MB\n"
     ]
    }
   ],
   "source": [
    "user_list.info()"
   ]
  },
  {
   "cell_type": "code",
   "execution_count": 206,
   "metadata": {},
   "outputs": [
    {
     "data": {
      "text/plain": [
       "2    2502\n",
       "1    2029\n",
       "3    1746\n",
       "0    1312\n",
       "4     809\n",
       "5     361\n",
       "Name: categorical_month, dtype: int64"
      ]
     },
     "execution_count": 206,
     "metadata": {},
     "output_type": "execute_result"
    }
   ],
   "source": [
    "user_list['categorical_month'].value_counts()"
   ]
  },
  {
   "cell_type": "code",
   "execution_count": 208,
   "metadata": {},
   "outputs": [
    {
     "name": "stderr",
     "output_type": "stream",
     "text": [
      "/Users/jeong-giho/.conda/envs/pythonProject4/lib/python3.9/site-packages/seaborn/_decorators.py:36: FutureWarning: Pass the following variable as a keyword arg: x. From version 0.12, the only valid positional argument will be `data`, and passing other arguments without an explicit keyword will result in an error or misinterpretation.\n",
      "  warnings.warn(\n"
     ]
    },
    {
     "data": {
      "image/png": "[encoded data removed]",
      "text/plain": [
       "<Figure size 640x480 with 1 Axes>"
      ]
     },
     "metadata": {},
     "output_type": "display_data"
    }
   ],
   "source": [
    "sns.countplot('begin_month_mean', data = user_list, hue='credit')\n",
    "plt.show()"
   ]
  },
  {
   "cell_type": "code",
   "execution_count": 209,
   "metadata": {},
   "outputs": [],
   "source": [
    "user_list.to_csv('data/user_list_GH2.csv')"
   ]
  }
 ],
 "metadata": {
  "interpreter": {
   "hash": "3e194ca94d9d720df57297bf37581ae4a889736a9f9aea5aedd380eb1a7083ce"
  },
  "kernelspec": {
   "display_name": "Python 3.9.6 64-bit ('pythonProject4': conda)",
   "name": "python3"
  },
  "language_info": {
   "codemirror_mode": {
    "name": "ipython",
    "version": 3
   },
   "file_extension": ".py",
   "mimetype": "text/x-python",
   "name": "python",
   "nbconvert_exporter": "python",
   "pygments_lexer": "ipython3",
   "version": "3.9.6"
  },
  "orig_nbformat": 4
 },
 "nbformat": 4,
 "nbformat_minor": 2
}
